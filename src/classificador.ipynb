{
 "cells": [
  {
   "cell_type": "code",
   "execution_count": 1,
   "metadata": {},
   "outputs": [],
   "source": [
    "import pandas as pd\n",
    "import numpy as np\n",
    "import pickle\n",
    "import os\n",
    "from tqdm import tqdm\n",
    "import matplotlib.pyplot as plt\n",
    "import math\n",
    "from scipy.fftpack import fft, fftfreq\n",
    "import string\n",
    "import tensorflow as tf\n",
    "from tensorflow.keras import Sequential\n",
    "from tensorflow.keras.layers import Dense, LSTM, TimeDistributed, Dropout, Conv2D, Conv1D, MaxPooling1D\n",
    "from sklearn.model_selection import train_test_split\n",
    "from sklearn.model_selection import train_test_split\n",
    "from sklearn.preprocessing import MinMaxScaler\n",
    "from tensorboard.plugins.hparams import api as hp\n",
    "tf.keras.backend.clear_session()\n",
    "#%load_ext tensorboard"
   ]
  },
  {
   "cell_type": "code",
   "execution_count": 2,
   "metadata": {},
   "outputs": [],
   "source": [
    "%load_ext autoreload\n",
    "%autoreload 2"
   ]
  },
  {
   "cell_type": "code",
   "execution_count": 3,
   "metadata": {},
   "outputs": [],
   "source": [
    "from ipynb.fs.full.formata_dados import *\n",
    "from ipynb.fs.full.processa_dados import *"
   ]
  },
  {
   "cell_type": "code",
   "execution_count": 4,
   "metadata": {},
   "outputs": [
    {
     "name": "stdout",
     "output_type": "stream",
     "text": [
      "WARNING:tensorflow:From <ipython-input-4-6e7d52493bfc>:2: is_gpu_available (from tensorflow.python.framework.test_util) is deprecated and will be removed in a future version.\n",
      "Instructions for updating:\n",
      "Use `tf.config.list_physical_devices('GPU')` instead.\n"
     ]
    },
    {
     "data": {
      "text/plain": [
       "False"
      ]
     },
     "execution_count": 4,
     "metadata": {},
     "output_type": "execute_result"
    }
   ],
   "source": [
    "tf.test.is_gpu_available(\n",
    "    cuda_only=False, min_cuda_compute_capability=None\n",
    ") "
   ]
  },
  {
   "cell_type": "code",
   "execution_count": 5,
   "metadata": {},
   "outputs": [],
   "source": [
    "#Importa os dados formatados\n",
    "with open(\"../data/Pickles/dados_ok.pkl\", \"rb\") as dados_ok:\n",
    "        dados_ok = pickle.load(dados_ok)[0]\n",
    "with open(\"../data/Pickles/dados_agua_ok.pkl\", \"rb\") as dados_agua_ok:\n",
    "        dados_agua_ok = pickle.load(dados_agua_ok)[0]\n",
    "with open(\"../data/Pickles/dados_aspartame_ok.pkl\", \"rb\") as dados_aspartame_ok:\n",
    "        dados_aspartame_ok = pickle.load(dados_aspartame_ok)[0]\n",
    "with open(\"../data/Pickles/dados_sucralose_ok.pkl\", \"rb\") as dados_sucralose_ok:\n",
    "        dados_sucralose_ok = pickle.load(dados_sucralose_ok)[0]\n",
    "with open(\"../data/Pickles/dados_acucar_ok.pkl\", \"rb\") as dados_acucar_ok:\n",
    "        dados_acucar_ok = pickle.load(dados_acucar_ok)[0]\n",
    "with open(\"../data/Pickles/todos_os_dados_originais.pkl\", \"rb\") as todos_os_dados:\n",
    "        dados_originais = pickle.load(todos_os_dados)[0]"
   ]
  },
  {
   "cell_type": "code",
   "execution_count": 6,
   "metadata": {},
   "outputs": [],
   "source": [
    "#remove amplitudes consideradas como ruido na serie\n",
    "dados_sem_ruidos = remove_ruidos(dados_ok,80) #80 - substituir valores com amplitude acima de 80\n",
    "with open(\"../data/Pickles/dados_ok.pkl\", \"rb\") as dados_ok:\n",
    "    dados_ok = pickle.load(dados_ok)[0]"
   ]
  },
  {
   "cell_type": "code",
   "execution_count": 7,
   "metadata": {},
   "outputs": [],
   "source": [
    "#referencias das bebidas\n",
    "agua = 0\n",
    "acucar = 1\n",
    "aspartame = 2\n",
    "sucralose = 3\n",
    "dict_output = enumera_dicionario(['agua', 'acucar', 'aspartame', 'sucralose'])"
   ]
  },
  {
   "cell_type": "code",
   "execution_count": 8,
   "metadata": {},
   "outputs": [],
   "source": [
    "#Carrega/salva dados\n",
    "gerar_dados = False\n",
    "if gerar_dados == True:\n",
    "    dados_sem_ruidos_separados_por_output = separa_dados_por_output(dados_sem_ruidos,dict_output)\n",
    "    with open(\"../data/Pickles/dados_semruido_ok.pkl\", \"wb\") as dados_ok_semruidos:\n",
    "            pickle.dump([dados_sem_ruidos], dados_ok_semruidos)\n",
    "    with open(\"../data/Pickles/dados_semruido_agua_ok.pkl\", \"wb\") as dados_agua_ok:\n",
    "            pickle.dump([dados_sem_ruidos_separados_por_output['agua']], dados_agua_ok)\n",
    "    with open(\"../data/Pickles/dados_semruido_aspartame_ok.pkl\", \"wb\") as dados_aspartame_ok:\n",
    "            pickle.dump([dados_sem_ruidos_separados_por_output['aspartame']], dados_aspartame_ok)\n",
    "    with open(\"../data/Pickles/dados_semruido_sucralose_ok.pkl\", \"wb\") as dados_sucralose_ok:\n",
    "            pickle.dump([dados_sem_ruidos_separados_por_output['sucralose']], dados_sucralose_ok)\n",
    "    with open(\"../data/Pickles/dados_semruido_acucar_ok.pkl\", \"wb\") as dados_acucar_ok:\n",
    "            pickle.dump([dados_sem_ruidos_separados_por_output['acucar']], dados_acucar_ok)\n",
    "else:\n",
    "    with open(\"../data/Pickles/dados_semruido_ok.pkl\", \"rb\") as dados_ok_semruidos:\n",
    "            dados_semruido_ok = pickle.load(dados_ok_semruidos)[0]\n",
    "    with open(\"../data/Pickles/dados_semruido_agua_ok.pkl\", \"rb\") as dados_agua_ok:\n",
    "            dados_semruido_agua_ok= pickle.load(dados_agua_ok)[0]\n",
    "    with open(\"../data/Pickles/dados_semruido_aspartame_ok.pkl\", \"rb\") as dados_aspartame_ok:\n",
    "            dados_semruido_aspartame_ok = pickle.load(dados_aspartame_ok)[0]\n",
    "    with open(\"../data/Pickles/dados_semruido_sucralose_ok.pkl\", \"rb\") as dados_sucralose_ok:\n",
    "            dados_semruido_sucralose_ok = pickle.load(dados_sucralose_ok)[0]\n",
    "    with open(\"../data/Pickles/dados_semruido_acucar_ok.pkl\", \"rb\") as dados_acucar_ok:\n",
    "            dados_semruido_acucar_ok = pickle.load(dados_acucar_ok)[0]"
   ]
  },
  {
   "cell_type": "code",
   "execution_count": 9,
   "metadata": {},
   "outputs": [],
   "source": [
    "# gerar os vetores de input e output dos dados sem ruidos\n",
    "\n",
    "X_all = dados_sem_ruidos[:,:-4]\n",
    "y_all = dados_sem_ruidos[:,-4:]\n",
    "X_all_agua = dados_semruido_agua_ok[:,:-4]\n",
    "y_all_agua = dados_semruido_agua_ok[:,-4:]\n",
    "X_all_acucar = dados_semruido_acucar_ok[:,:-4]\n",
    "y_all_acucar = dados_semruido_acucar_ok[:,-4:]\n",
    "X_all_aspartame = dados_semruido_aspartame_ok[:,:-4]\n",
    "y_all_aspartame = dados_semruido_aspartame_ok[:,-4:]\n",
    "X_all_sucralose = dados_semruido_sucralose_ok[:,:-4]\n",
    "y_all_sucralose = dados_semruido_sucralose_ok[:,-4:]"
   ]
  },
  {
   "cell_type": "code",
   "execution_count": 10,
   "metadata": {},
   "outputs": [],
   "source": [
    "def get_best(X_test, y_test, best_model):\n",
    "    doce_certo, agua_certo = np.linspace(0, 1, num=101), np.linspace(0, 1, num=101)\n",
    "    for i, j in enumerate(doce_certo):\n",
    "        agua_certo[i], doce_certo[i] = calc_preds(j, X_test, y_test, best_model)\n",
    "    b = agua_certo + doce_certo\n",
    "    return b.argmax(), doce_certo[b.argmax()], agua_certo[b.argmax()], [agua_certo, doce_certo]"
   ]
  },
  {
   "cell_type": "markdown",
   "metadata": {},
   "source": [
    "# Aqui começa o algoritmo"
   ]
  },
  {
   "cell_type": "code",
   "execution_count": 11,
   "metadata": {},
   "outputs": [],
   "source": [
    "quant_agua, quant_acucar, quant_aspartame, quant_sucralose = X_all_agua.shape[0], X_all_acucar.shape[0], X_all_aspartame.shape[0], X_all_sucralose.shape[0]"
   ]
  },
  {
   "cell_type": "code",
   "execution_count": 12,
   "metadata": {},
   "outputs": [],
   "source": [
    "s_agua = int(2*X_all_agua.shape[0]/3)\n",
    "s_acucar = int(2*X_all_acucar.shape[0]/3)\n",
    "s_aspartame = int(2*X_all_aspartame.shape[0]/3)\n",
    "s_sucralose = int(2*X_all_sucralose.shape[0]/3)\n",
    "\n",
    "X_all_agua_train = X_all_agua[:s_agua, :]\n",
    "X_all_agua_test = X_all_agua[s_agua:, :]\n",
    "X_all_acucar_train = X_all_acucar[:s_acucar, :]\n",
    "X_all_acucar_test = X_all_acucar[s_acucar:, :]\n",
    "X_all_aspartame_train = X_all_aspartame[:s_aspartame, :]\n",
    "X_all_aspartame_test = X_all_aspartame[s_aspartame:, :]\n",
    "X_all_sucralose_train = X_all_sucralose[:s_sucralose, :]\n",
    "X_all_sucralose_test = X_all_sucralose[s_sucralose:, :]\n",
    "\n",
    "# X_all_agua_train, X_all_agua_test, _, _ = train_test_split(X_all_agua, y_all_agua, test_size=0.3)\n",
    "# X_all_acucar_train, X_all_acucar_test, _, _ = train_test_split(X_all_acucar, y_all_acucar, test_size=0.3)\n",
    "# X_all_aspartame_train, X_all_aspartame_test, _, _ = train_test_split(X_all_aspartame, y_all_aspartame, test_size=0.3)\n",
    "# X_all_sucralose_train, X_all_sucralose_test, _, _ = train_test_split(X_all_sucralose, y_all_sucralose, test_size=0.3)\n",
    "\n",
    "window_time = 2\n",
    "t_inicial = 0\n",
    "delta_time = 16\n",
    "n_buckets = 20\n",
    "\n",
    "X_all_agua_train, y_all_agua_train = multiplica_dados(X_all_agua_train,t_inicial ,t_inicial+delta_time ,512 ,window_time, 0.1, y_all_agua)\n",
    "X_all_acucar_train, y_all_acucar_train = multiplica_dados(X_all_acucar_train,t_inicial ,t_inicial+delta_time ,512 ,window_time, 0.1, y_all_acucar)\n",
    "X_all_aspartame_train, y_all_aspartame_train = multiplica_dados(X_all_aspartame_train,t_inicial ,t_inicial+delta_time ,512 ,window_time, 0.1, y_all_aspartame)\n",
    "X_all_sucralose_train, y_all_sucralose_train = multiplica_dados(X_all_sucralose_train,t_inicial ,t_inicial+delta_time ,512 ,window_time, 0.1, y_all_sucralose)\n",
    "\n",
    "X_all_agua_test, y_all_agua_test = multiplica_dados(X_all_agua_test,t_inicial ,t_inicial+delta_time ,512 ,window_time, 0.1, y_all_agua)\n",
    "X_all_acucar_test, y_all_acucar_test = multiplica_dados(X_all_acucar_test,t_inicial ,t_inicial+delta_time ,512 ,window_time, 0.1, y_all_acucar)\n",
    "X_all_aspartame_test, y_all_aspartame_test = multiplica_dados(X_all_aspartame_test,t_inicial ,t_inicial+delta_time ,512 ,window_time, 0.1, y_all_aspartame)\n",
    "X_all_sucralose_test, y_all_sucralose_test = multiplica_dados(X_all_sucralose_test,t_inicial ,t_inicial+delta_time ,512 ,window_time, 0.1, y_all_sucralose)\n",
    "\n",
    "X_all_agua_train = converte_dados_buckets_fft(X_all_agua_train, n_buckets)\n",
    "X_all_acucar_train = converte_dados_buckets_fft(X_all_acucar_train, n_buckets)\n",
    "X_all_aspartame_train = converte_dados_buckets_fft(X_all_aspartame_train, n_buckets)\n",
    "X_all_sucralose_train = converte_dados_buckets_fft(X_all_sucralose_train, n_buckets)\n",
    "\n",
    "X_all_agua_test = converte_dados_buckets_fft(X_all_agua_test, n_buckets)\n",
    "X_all_acucar_test = converte_dados_buckets_fft(X_all_acucar_test, n_buckets)\n",
    "X_all_aspartame_test = converte_dados_buckets_fft(X_all_aspartame_test, n_buckets)\n",
    "X_all_sucralose_test = converte_dados_buckets_fft(X_all_sucralose_test, n_buckets)"
   ]
  },
  {
   "cell_type": "code",
   "execution_count": 13,
   "metadata": {},
   "outputs": [],
   "source": [
    "experimento = 'acucar_sucralose'\n",
    "\n",
    "if experimento == 'agua_acucar':\n",
    "    X_train = np.concatenate((X_all_agua_train, X_all_acucar_train))\n",
    "    X_test = np.concatenate((X_all_agua_test, X_all_acucar_test))\n",
    "    y_train = np.concatenate((y_all_agua_train, y_all_acucar_train))\n",
    "    y_test = np.concatenate((y_all_agua_test, y_all_acucar_test))\n",
    "elif experimento == 'agua_aspartame':\n",
    "    X_train = np.concatenate((X_all_agua_train, X_all_aspartame_train))\n",
    "    X_test = np.concatenate((X_all_agua_test, X_all_aspartame_test))\n",
    "    y_train = np.concatenate((y_all_agua_train, y_all_aspartame_train))\n",
    "    y_test = np.concatenate((y_all_agua_test, y_all_aspartame_test))\n",
    "elif experimento == 'agua_sucralose':\n",
    "    X_train = np.concatenate((X_all_agua_train, X_all_sucralose_train))\n",
    "    X_test = np.concatenate((X_all_agua_test, X_all_sucralose_test))\n",
    "    y_train = np.concatenate((y_all_agua_train, y_all_sucralose_train))\n",
    "    y_test = np.concatenate((y_all_agua_test, y_all_sucralose_test))    \n",
    "elif experimento == 'acucar_sucralose':\n",
    "    X_train = np.concatenate((X_all_acucar_train, X_all_sucralose_train))\n",
    "    X_test = np.concatenate((X_all_acucar_test, X_all_sucralose_test))\n",
    "    y_train = np.concatenate((y_all_acucar_train, y_all_sucralose_train))\n",
    "    y_test = np.concatenate((y_all_acucar_test, y_all_sucralose_test))\n",
    "elif experimento == 'acucar_aspartame':\n",
    "    X_train = np.concatenate((X_all_acucar_train, X_all_aspartame_train))\n",
    "    X_test = np.concatenate((X_all_acucar_test, X_all_aspartame_test))\n",
    "    y_train = np.concatenate((y_all_acucar_train, y_all_aspartame_train))\n",
    "    y_test = np.concatenate((y_all_acucar_test, y_all_aspartame_test, ))\n",
    "elif experimento == 'aspartame_sucralose':\n",
    "    X_train = np.concatenate((X_all_aspartame_train, X_all_sucralose_train))\n",
    "    X_test = np.concatenate((X_all_aspartame_test, X_all_sucralose_test))\n",
    "    y_train = np.concatenate((y_all_aspartame_train, y_all_sucralose_train))\n",
    "    y_test = np.concatenate((y_all_aspartame_test, y_all_sucralose_test))\n",
    "\n",
    "# agua = 0\n",
    "# acucar = 1\n",
    "# aspartame = 2\n",
    "# sucralose = 3\n",
    "\n",
    "y_train = y_train[:,1]\n",
    "y_test = y_test[:,1]    \n",
    "    \n",
    "if 'agua' in experimento:        # quando tempor Agua, ela é o output 0\n",
    "    y_train[y_train > 0.1] = 1\n",
    "    y_test[y_test > 0.1] = 1\n",
    "elif 'acucar' in experimento:    # quando tempos açúcar (sem agua), ela é o output 1\n",
    "    y_train[y_train > 1] = 0\n",
    "    y_test[y_test > 1] = 0\n",
    "else:\n",
    "    print(\"else\")\n",
    "    y_train[y_train == 2] = 0      # aspartame vs sucralose: aspartame=0, sucralose=1\n",
    "    y_train[y_train == 3] = 1 \n",
    "    y_test[y_test == 2] = 0\n",
    "    y_test[y_test == 3] = 1\n",
    "\n",
    "# X_train = tf.keras.utils.normalize(X_train, axis=-1, order=2)\n",
    "# X_test = tf.keras.utils.normalize(X_test, axis=-1, order=2)\n",
    "X_train_len = X_train.shape[0]\n",
    "X_all = tf.keras.utils.normalize(np.concatenate((X_train, X_test)), axis=-1, order=2)\n",
    "X_train = X_all[:X_train_len,:]\n",
    "X_test = X_all[X_train_len:,:]"
   ]
  },
  {
   "cell_type": "code",
   "execution_count": 14,
   "metadata": {},
   "outputs": [
    {
     "data": {
      "text/plain": [
       "((2940, 20), (2940,), (1680, 20), (1680,))"
      ]
     },
     "execution_count": 14,
     "metadata": {},
     "output_type": "execute_result"
    }
   ],
   "source": [
    "X_train.shape, y_train.shape, X_test.shape, y_test.shape"
   ]
  },
  {
   "cell_type": "code",
   "execution_count": 16,
   "metadata": {},
   "outputs": [],
   "source": [
    "model = tf.keras.Sequential()\n",
    "model.add(Dense(16, activation='relu')) # retified linear unit\n",
    "model.add(Dropout(0.2))\n",
    "model.add(Dense(16, activation='relu'))\n",
    "model.add(Dropout(0.2))\n",
    "model.add(Dense(64, activation='relu'))\n",
    "model.add(Dropout(0.2))\n",
    "model.add(Dense(1, activation='sigmoid'))\n",
    "model.compile(loss='binary_crossentropy', optimizer='adam', metrics=['accuracy'])"
   ]
  },
  {
   "cell_type": "code",
   "execution_count": 24,
   "metadata": {},
   "outputs": [
    {
     "data": {
      "text/plain": [
       "<tensorflow.python.keras.callbacks.History at 0x7fcfd0534eb8>"
      ]
     },
     "execution_count": 24,
     "metadata": {},
     "output_type": "execute_result"
    }
   ],
   "source": [
    "model.fit(X_train, y_train, epochs=5, verbose=False, shuffle=True, batch_size=512)"
   ]
  },
  {
   "cell_type": "code",
   "execution_count": null,
   "metadata": {},
   "outputs": [],
   "source": [
    "# https://machinelearningmastery.com/visualize-deep-learning-neural-network-model-keras/#:~:text=Summarize%20Model,output%20shape%20of%20each%20layer."
   ]
  },
  {
   "cell_type": "code",
   "execution_count": 25,
   "metadata": {},
   "outputs": [
    {
     "data": {
      "text/plain": [
       "[0.6964930891990662, 0.494047611951828]"
      ]
     },
     "execution_count": 25,
     "metadata": {},
     "output_type": "execute_result"
    }
   ],
   "source": [
    "model.evaluate(X_test, y_test, verbose=False)"
   ]
  },
  {
   "cell_type": "code",
   "execution_count": 27,
   "metadata": {},
   "outputs": [
    {
     "name": "stdout",
     "output_type": "stream",
     "text": [
      "48 87.38095238095238 13.69047619047619\n"
     ]
    },
    {
     "data": {
      "text/plain": [
       "[<matplotlib.lines.Line2D at 0x7fcfd054d748>]"
      ]
     },
     "execution_count": 27,
     "metadata": {},
     "output_type": "execute_result"
    },
    {
     "data": {
      "image/png": "[encoded data removed]",
      "text/plain": [
       "<Figure size 432x288 with 1 Axes>"
      ]
     },
     "metadata": {
      "needs_background": "light"
     },
     "output_type": "display_data"
    }
   ],
   "source": [
    "best, best_doce, best_agua, [agua_certo, doce_certo] = get_best(X_test, y_test, model)\n",
    "print(best, best_doce, best_agua)\n",
    "plt.plot(agua_certo)\n",
    "plt.plot(doce_certo)\n",
    "plt.plot(agua_certo + doce_certo)"
   ]
  },
  {
   "cell_type": "code",
   "execution_count": null,
   "metadata": {},
   "outputs": [],
   "source": [
    "#model.save('04_06_acucar_sucralose.h5')"
   ]
  },
  {
   "cell_type": "code",
   "execution_count": null,
   "metadata": {},
   "outputs": [],
   "source": [
    "X_test.shape"
   ]
  },
  {
   "cell_type": "code",
   "execution_count": null,
   "metadata": {},
   "outputs": [],
   "source": [
    "model.evaluate(X_test, y_test, verbose=False)"
   ]
  },
  {
   "cell_type": "code",
   "execution_count": null,
   "metadata": {},
   "outputs": [],
   "source": [
    "image_input = tf.keras.Input(shape=(32, 32, 3), name=\"img_input\")\n",
    "timeseries_input = tf.keras.Input(shape=(None, 10), name=\"ts_input\")\n",
    "\n",
    "x1 = tf.keras.layers.Conv2D(3, 3)(image_input)\n",
    "x1 = tf.keras.layers.GlobalMaxPooling2D()(x1)\n",
    "\n",
    "x2 = tf.keras.layers.Conv1D(3, 3)(timeseries_input)\n",
    "x2 = tf.keras.layers.GlobalMaxPooling1D()(x2)\n",
    "\n",
    "x = tf.keras.layers.concatenate([x1, x2])\n",
    "\n",
    "score_output = tf.keras.layers.Dense(1, name=\"score_output\")(x)\n",
    "class_output = tf.keras.layers.Dense(5, activation=\"softmax\", name=\"class_output\")(x)\n",
    "\n",
    "model = tf.keras.Model(\n",
    "    inputs=[image_input, timeseries_input], outputs=[score_output, class_output]\n",
    ")"
   ]
  },
  {
   "cell_type": "code",
   "execution_count": null,
   "metadata": {},
   "outputs": [],
   "source": [
    "tf.keras.utils.plot_model(model, \"multi_input_and_output_model.png\", show_shapes=True)"
   ]
  },
  {
   "cell_type": "code",
   "execution_count": null,
   "metadata": {},
   "outputs": [],
   "source": [
    "from kerastuner import HyperModel\n",
    "from kerastuner.tuners import RandomSearch\n",
    "\n",
    "def create_model_base(hp):\n",
    "    model = tf.keras.Sequential()\n",
    "    model.add(Dense(hp.Int('Dense_01', min_value=0, max_value=128, step=16,default=64), activation='relu'))\n",
    "    model.add(Dropout(rate=hp.Float('dropout_1', min_value=0.0, max_value=0.4, default=0.25, step=0.05)))\n",
    "    model.add(Dense(hp.Int('Dense_02', min_value=0, max_value=128, step=16,default=64), activation='relu'))\n",
    "    model.add(Dropout(rate=hp.Float('dropout_2', min_value=0.0, max_value=0.4, default=0.25, step=0.05)))\n",
    "    model.add(Dense(hp.Int('Dense_03', min_value=0, max_value=128, step=16,default=64), activation='relu'))\n",
    "    model.add(Dropout(rate=hp.Float('dropout_3', min_value=0.0, max_value=0.4, default=0.25, step=0.05)))\n",
    "    model.add(Dense(1, activation='sigmoid'))\n",
    "    model.compile(loss='binary_crossentropy', optimizer='adam', metrics=['accuracy'])\n",
    "    return model\n",
    "\n",
    "def create_tunned_model(hp):\n",
    "    model = tf.keras.Sequential()  \n",
    "    model.add(Dense(hp.Int('Dense_01', min_value=16, max_value=128, step=16,default=64), activation='relu'))\n",
    "    model.add(Dropout(0.2))\n",
    "    model.add(Dense(hp.Int('Dense_02', min_value=16, max_value=128, step=16,default=64), activation='relu'))\n",
    "    model.add(Dropout(0.2))\n",
    "    model.add(Dense(1, activation='sigmoid'))\n",
    "    model.compile(loss='binary_crossentropy', optimizer='adam', metrics=['accuracy'])\n",
    "    return model"
   ]
  },
  {
   "cell_type": "code",
   "execution_count": null,
   "metadata": {},
   "outputs": [],
   "source": [
    "tuner = RandomSearch(create_tunned_model, objective='val_accuracy', max_trials=10, executions_per_trial=5, directory='log_dir_agua_aspartame3')"
   ]
  },
  {
   "cell_type": "code",
   "execution_count": null,
   "metadata": {},
   "outputs": [],
   "source": [
    "tuner.search(x=X_train, y=y_train, epochs=200, batch_size=64, validation_data=(X_test, y_test))"
   ]
  },
  {
   "cell_type": "code",
   "execution_count": null,
   "metadata": {},
   "outputs": [],
   "source": [
    "tuner.results_summary()"
   ]
  },
  {
   "cell_type": "code",
   "execution_count": null,
   "metadata": {},
   "outputs": [],
   "source": [
    "best_model = tuner.get_best_models(num_models=3)[0]"
   ]
  },
  {
   "cell_type": "code",
   "execution_count": null,
   "metadata": {},
   "outputs": [],
   "source": [
    "best_model.summary()"
   ]
  },
  {
   "cell_type": "code",
   "execution_count": null,
   "metadata": {},
   "outputs": [],
   "source": [
    "loss, accuracy = best_model.evaluate(X_test, y_test)"
   ]
  },
  {
   "cell_type": "code",
   "execution_count": null,
   "metadata": {},
   "outputs": [],
   "source": [
    "best, best_doce, best_agua, [agua_certo, doce_certo] = get_best()\n",
    "print(best, best_doce, best_agua)\n",
    "plt.plot(agua_certo)\n",
    "plt.plot(doce_certo)\n",
    "plt.plot(agua_certo + doce_certo)"
   ]
  },
  {
   "cell_type": "code",
   "execution_count": null,
   "metadata": {},
   "outputs": [],
   "source": [
    "tf.keras.models.save_model(best_model, 'tunner01_agua_acucar_V1.h5')"
   ]
  },
  {
   "cell_type": "code",
   "execution_count": null,
   "metadata": {},
   "outputs": [],
   "source": [
    "best_model.summary()"
   ]
  },
  {
   "cell_type": "code",
   "execution_count": null,
   "metadata": {},
   "outputs": [],
   "source": [
    "model = return_model()"
   ]
  },
  {
   "cell_type": "code",
   "execution_count": null,
   "metadata": {},
   "outputs": [],
   "source": [
    "model.fit(X_train, y_train, epochs=150, verbose=True, shuffle=False)  # validation_data=(X_test, y_test)"
   ]
  },
  {
   "cell_type": "code",
   "execution_count": null,
   "metadata": {},
   "outputs": [],
   "source": [
    "#model = tf.keras.models.load_model('15_05_V3agua_acucar.h5')"
   ]
  },
  {
   "cell_type": "code",
   "execution_count": null,
   "metadata": {},
   "outputs": [],
   "source": [
    "model.evaluate(X_test, y_test, verbose=False)"
   ]
  },
  {
   "cell_type": "code",
   "execution_count": null,
   "metadata": {},
   "outputs": [],
   "source": [
    "print(calc_preds(0.95, X_test, y_test, model))"
   ]
  },
  {
   "cell_type": "code",
   "execution_count": null,
   "metadata": {},
   "outputs": [],
   "source": [
    "def get_best():\n",
    "    doce_certo, agua_certo = np.linspace(0, 1, num=101), np.linspace(0, 1, num=101)\n",
    "    for i, j in enumerate(doce_certo):\n",
    "        agua_certo[i], doce_certo[i] = calc_preds(j, X_test, y_test, model)\n",
    "    b = agua_certo + doce_certo\n",
    "    return b.argmax(), doce_certo[b.argmax()], agua_certo[b.argmax()], [agua_certo, doce_certo]"
   ]
  },
  {
   "cell_type": "code",
   "execution_count": null,
   "metadata": {},
   "outputs": [],
   "source": [
    "best, best_doce, best_agua, [agua_certo, doce_certo] = get_best()\n",
    "print(best, best_doce, best_agua)\n",
    "plt.plot(agua_certo)\n",
    "plt.plot(doce_certo)\n",
    "plt.plot(agua_certo + doce_certo)"
   ]
  },
  {
   "cell_type": "code",
   "execution_count": null,
   "metadata": {},
   "outputs": [],
   "source": []
  },
  {
   "cell_type": "code",
   "execution_count": null,
   "metadata": {},
   "outputs": [],
   "source": [
    "#model.save('15_05_V3acucar_acucar.h5')"
   ]
  }
 ],
 "metadata": {
  "kernelspec": {
   "display_name": "Python 3",
   "language": "python",
   "name": "python3"
  },
  "language_info": {
   "codemirror_mode": {
    "name": "ipython",
    "version": 3
   },
   "file_extension": ".py",
   "mimetype": "text/x-python",
   "name": "python",
   "nbconvert_exporter": "python",
   "pygments_lexer": "ipython3",
   "version": "3.6.9"
  }
 },
 "nbformat": 4,
 "nbformat_minor": 4
}
