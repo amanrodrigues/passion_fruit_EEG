{
 "cells": [
  {
   "cell_type": "code",
   "execution_count": 1,
   "metadata": {},
   "outputs": [],
   "source": [
    "import pandas as pd\n",
    "import numpy as np\n",
    "import pickle\n",
    "import os\n",
    "from scipy.fftpack import fft, fftfreq\n",
    "import matplotlib as mpl\n",
    "import matplotlib.pyplot as plt\n",
    "\n",
    "\n",
    "%load_ext autoreload\n",
    "%autoreload 2\n",
    "\n",
    "from ipynb.fs.full.formata_dados import *\n",
    "from ipynb.fs.full.processa_dados import *"
   ]
  },
  {
   "cell_type": "code",
   "execution_count": 4,
   "metadata": {},
   "outputs": [],
   "source": [
    "#pasta na qual estão os arquivos de dados\n",
    "path = \"../data/EXPERIMENTO OFICIAL 2019/\""
   ]
  },
  {
   "cell_type": "code",
   "execution_count": 5,
   "metadata": {},
   "outputs": [],
   "source": [
    "#dicionário\n",
    "## chave: nome do arquivo, valor: dados\n",
    "#### Cada voluntário participou do experimento 3 dias, ingerindo 2 vezes cada uma das 4 bebidas\n",
    "######(agua, suco com aspartame, suco com acucar. suco com sucralose) em cada dia.\n",
    "##### 11 voluntários = 264 dados\n",
    "##### 64 dados descartados -> 200 dados válidos\n",
    "dados_voluntarios_completos = le_dados_EEG(path)"
   ]
  },
  {
   "cell_type": "code",
   "execution_count": 6,
   "metadata": {},
   "outputs": [],
   "source": [
    "lista_dados = list(dados_voluntarios_completos.values())\n",
    "nome_dos_arquivos = list(dados_voluntarios_completos.keys())\n",
    "output = cria_dicionario_output()"
   ]
  },
  {
   "cell_type": "code",
   "execution_count": 7,
   "metadata": {},
   "outputs": [],
   "source": [
    "#referencias das bebidas\n",
    "agua = 0\n",
    "acucar = 1\n",
    "aspartame = 2\n",
    "sucralose = 3\n",
    "dict_output = enumera_dicionario(['agua', 'acucar', 'aspartame', 'sucralose'])"
   ]
  },
  {
   "cell_type": "code",
   "execution_count": 8,
   "metadata": {},
   "outputs": [],
   "source": [
    "#referencia das datas\n",
    "dicionario_datas = inverte_enumera_dicionario(['07.11','08.11','11.11','12.11','13.11','14.11','27.11','28.11','02.12','03.12','04.12'])\n",
    "inverte_enumera_dicionario = enumera_dicionario(['07.11','08.11','11.11','12.11','13.11','14.11','27.11','28.11','02.12','03.12','04.12'])"
   ]
  },
  {
   "cell_type": "code",
   "execution_count": 9,
   "metadata": {},
   "outputs": [],
   "source": [
    "#referencia dos individuos\n",
    "dict_individuo = enumera_dicionario(['Camila Mendes', 'Camila Gomes','Beatriz','Carol Monica', \n",
    "                                    'Isabella','Isa Peron','Lais','Maria Clara','Orlando','Rafaela'])\n",
    "camilamendes = 0\n",
    "camila = 1 #camila gomes\n",
    "beatriz = 2\n",
    "carolmonica = 3\n",
    "isabella = 4\n",
    "isaperon = 5\n",
    "lais = 6\n",
    "mariaclara = 7\n",
    "orlando = 8\n",
    "rafa = 9"
   ]
  },
  {
   "cell_type": "code",
   "execution_count": 10,
   "metadata": {},
   "outputs": [],
   "source": [
    "#Enumera as bebidas ingeridas e nomeia os voluntatios participantes de cada experimento\n",
    "lista_output, individuos = arruma_output(nome_dos_arquivos, output, acucar, agua, sucralose, aspartame)"
   ]
  },
  {
   "cell_type": "code",
   "execution_count": 11,
   "metadata": {},
   "outputs": [
    {
     "name": "stdout",
     "output_type": "stream",
     "text": [
      "Os dados foram padronizados\n"
     ]
    }
   ],
   "source": [
    "#Deixa todos os vetores com o mesmo tamanho\n",
    "lista_dados_padronizados, data_experimento = padroniza_dados(lista_dados)"
   ]
  },
  {
   "cell_type": "code",
   "execution_count": 12,
   "metadata": {},
   "outputs": [],
   "source": [
    "#enumera os voluntarios participantes de cada experimento\n",
    "lista_individuos = gera_lista_individuos(individuos, camilamendes, camila, beatriz, carolmonica, isabella, isaperon, lais, mariaclara, orlando, rafa)"
   ]
  },
  {
   "cell_type": "code",
   "execution_count": 14,
   "metadata": {},
   "outputs": [],
   "source": [
    "#Se False: Carrega dados\n",
    "#Se True: Gera dados\n",
    "gera_dados = False\n",
    "\n",
    "if gera_dados:\n",
    "    dados_originais = completa_dados(lista_dados_padronizados,lista_output, dicionario_datas, lista_individuos, data_experimento)\n",
    "    with open(\"..data/Pickles/dados_originais.pkl\", \"wb\") as originais:\n",
    "        pickle.dump([dados_originais], originais)\n",
    "else:\n",
    "    with open(\"../data/Pickles/dados_originais.pkl\", \"rb\") as originais:\n",
    "        dados_originais = pickle.load(originais)\n",
    "        dados_originais = dados_originais[0]"
   ]
  },
  {
   "cell_type": "code",
   "execution_count": 15,
   "metadata": {},
   "outputs": [],
   "source": [
    "# ordena os dados originais por data e por individuo - coluna 9218 = data, coluna 9219 = individuo\n",
    "dados_originais_ordenados = dados_originais.sort_values([9218,9219])"
   ]
  },
  {
   "cell_type": "code",
   "execution_count": 16,
   "metadata": {},
   "outputs": [],
   "source": [
    "# transforma os dados originais de pandas.DataFrame para numpy.array\n",
    "dados_numpy = np.array(dados_originais_ordenados)"
   ]
  },
  {
   "cell_type": "code",
   "execution_count": 17,
   "metadata": {},
   "outputs": [],
   "source": [
    "ok, errado = valida_dados(dados_numpy[:,:-4])"
   ]
  },
  {
   "cell_type": "code",
   "execution_count": 18,
   "metadata": {},
   "outputs": [],
   "source": [
    "#como a funcao \"valida_dados\" retorna os indices dos vetores, aqui os vetores corretos estao sendo filtrados \n",
    "dados_numpy_ok = dados_numpy[ok]"
   ]
  },
  {
   "cell_type": "code",
   "execution_count": 19,
   "metadata": {},
   "outputs": [],
   "source": [
    "#separa os dados por bebida\n",
    "dados_separados_por_output = separa_dados_por_output(dados_numpy_ok,dict_output)"
   ]
  },
  {
   "cell_type": "code",
   "execution_count": 20,
   "metadata": {},
   "outputs": [],
   "source": [
    "#Se True: salva os dados gerados como pickle\n",
    "salva_dados = True\n",
    "if salva_dados:\n",
    "    with open(\"../data/Pickles/dados_ok.pkl\", \"wb\") as dados_ok:\n",
    "            pickle.dump([dados_numpy_ok], dados_ok)\n",
    "    with open(\"../data/Pickles/dados_agua_ok.pkl\", \"wb\") as dados_agua_ok:\n",
    "            pickle.dump([dados_separados_por_output['agua']], dados_agua_ok)\n",
    "    with open(\"../data/Pickles/dados_aspartame_ok.pkl\", \"wb\") as dados_aspartame_ok:\n",
    "            pickle.dump([dados_separados_por_output['aspartame']], dados_aspartame_ok)\n",
    "    with open(\"../data/Pickles/dados_sucralose_ok.pkl\", \"wb\") as dados_sucralose_ok:\n",
    "            pickle.dump([dados_separados_por_output['sucralose']], dados_sucralose_ok)\n",
    "    with open(\"../data/Pickles/dados_acucar_ok.pkl\", \"wb\") as dados_acucar_ok:\n",
    "            pickle.dump([dados_separados_por_output['acucar']], dados_acucar_ok)\n",
    "    with open(\"../data/Pickles/todos_os_dados_originais.pkl\", \"wb\") as todos_os_dados:\n",
    "            pickle.dump([dados_numpy], todos_os_dados)\n",
    "else:\n",
    "    print(\"Seus novos dados não foram salvos\")"
   ]
  },
  {
   "cell_type": "code",
   "execution_count": null,
   "metadata": {},
   "outputs": [],
   "source": [
    "#nomeia as colunas de output\n",
    "tabela_dados = pd.DataFrame(dados_numpy_ok)\n",
    "tabela_dados.rename(columns={9216:'Canal'}, inplace = True)\n",
    "tabela_dados.rename(columns={9217:'Bebida'}, inplace = True)\n",
    "tabela_dados.rename(columns={9218:'Data'}, inplace = True)\n",
    "tabela_dados.rename(columns={9219:'Individuo'}, inplace = True)"
   ]
  },
  {
   "cell_type": "code",
   "execution_count": null,
   "metadata": {},
   "outputs": [],
   "source": [
    "#nomeia os outputs\n",
    "for i in list(range(4)):\n",
    "    tabela_dados['Bebida'] = tabela_dados['Bebida'].replace(i, dict_output[i])\n",
    "for i in range(len(inverte_enumera_dicionario)):\n",
    "    tabela_dados['Data'] = tabela_dados['Data'].replace(i, inverte_enumera_dicionario[i])\n",
    "for i in range(len(dict_individuo)):\n",
    "    tabela_dados['Individuo'] = tabela_dados['Individuo'].replace(i, dict_individuo[i])"
   ]
  },
  {
   "cell_type": "code",
   "execution_count": null,
   "metadata": {},
   "outputs": [],
   "source": [
    "#tabela_dados"
   ]
  }
 ],
 "metadata": {
  "kernelspec": {
   "display_name": "Python 3",
   "language": "python",
   "name": "python3"
  },
  "language_info": {
   "codemirror_mode": {
    "name": "ipython",
    "version": 3
   },
   "file_extension": ".py",
   "mimetype": "text/x-python",
   "name": "python",
   "nbconvert_exporter": "python",
   "pygments_lexer": "ipython3",
   "version": "3.6.9"
  }
 },
 "nbformat": 4,
 "nbformat_minor": 4
}
